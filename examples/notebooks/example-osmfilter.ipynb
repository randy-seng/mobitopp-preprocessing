{
 "cells": [
  {
   "cell_type": "code",
   "execution_count": 8,
   "metadata": {},
   "outputs": [],
   "source": [
    "import pandas as pd\n",
    "from pathlib import Path\n",
    "import os"
   ]
  },
  {
   "cell_type": "code",
   "execution_count": 9,
   "metadata": {},
   "outputs": [
    {
     "data": {
      "text/plain": [
       "'/Users/jibi/dev_projects/mobitopp/mobitopp-preprocessing/examples/notebooks/liechtenstein_poi.json'"
      ]
     },
     "execution_count": 9,
     "metadata": {},
     "output_type": "execute_result"
    }
   ],
   "source": [
    "# path = \"data/osm/json/liechtenstein/Elements/POI.json\"\n",
    "file_name = \"liechtenstein_poi.json\"\n",
    "jsonFile = os.path.join(os.getcwd(), file_name)\n",
    "jsonFile"
   ]
  },
  {
   "cell_type": "code",
   "execution_count": 10,
   "metadata": {},
   "outputs": [],
   "source": [
    "poi = pd.read_json(jsonFile)"
   ]
  },
  {
   "cell_type": "code",
   "execution_count": 11,
   "metadata": {},
   "outputs": [
    {
     "name": "stdout",
     "output_type": "stream",
     "text": [
      "<class 'pandas.core.frame.DataFrame'>\n"
     ]
    },
    {
     "data": {
      "text/plain": [
       "26860698    {'id': 26860698, 'tags': {'name': 'Mittagspitz...\n",
       "49872651    {'id': 49872651, 'tags': {'ele': '576', 'infor...\n",
       "50069907    {'id': 50069907, 'tags': {'amenity': 'parking'...\n",
       "50075428    {'id': 50075428, 'tags': {'barrier': 'entrance...\n",
       "50086939    {'id': 50086939, 'tags': {'ele': '479', 'hikin...\n",
       "Name: Node, dtype: object"
      ]
     },
     "execution_count": 11,
     "metadata": {},
     "output_type": "execute_result"
    }
   ],
   "source": [
    "print(type(poi))\n",
    "poi[\"Node\"].head()"
   ]
  },
  {
   "cell_type": "code",
   "execution_count": 12,
   "metadata": {},
   "outputs": [
    {
     "data": {
      "text/plain": [
       "{'id': 26860698,\n",
       " 'tags': {'name': 'Mittagspitze', 'tourism': 'camp_site'},\n",
       " 'lonlat': [9.527095599999999, 47.0862971]}"
      ]
     },
     "execution_count": 12,
     "metadata": {},
     "output_type": "execute_result"
    }
   ],
   "source": [
    "poi[\"Node\"].iloc[0]"
   ]
  },
  {
   "cell_type": "code",
   "execution_count": 13,
   "metadata": {},
   "outputs": [
    {
     "data": {
      "text/plain": [
       "dict"
      ]
     },
     "execution_count": 13,
     "metadata": {},
     "output_type": "execute_result"
    }
   ],
   "source": [
    "type(poi[\"Node\"].iloc[0])"
   ]
  },
  {
   "cell_type": "code",
   "execution_count": 14,
   "metadata": {},
   "outputs": [
    {
     "data": {
      "text/plain": [
       "3360"
      ]
     },
     "execution_count": 14,
     "metadata": {},
     "output_type": "execute_result"
    }
   ],
   "source": [
    "len(poi[\"Node\"])"
   ]
  },
  {
   "cell_type": "code",
   "execution_count": 15,
   "metadata": {},
   "outputs": [
    {
     "data": {
      "text/plain": [
       "(3360,)"
      ]
     },
     "execution_count": 15,
     "metadata": {},
     "output_type": "execute_result"
    }
   ],
   "source": [
    "poi[\"Node\"].shape"
   ]
  },
  {
   "cell_type": "code",
   "execution_count": 16,
   "metadata": {},
   "outputs": [
    {
     "data": {
      "text/plain": [
       "(3360, 3)"
      ]
     },
     "execution_count": 16,
     "metadata": {},
     "output_type": "execute_result"
    }
   ],
   "source": [
    "poi.shape"
   ]
  },
  {
   "cell_type": "code",
   "execution_count": 17,
   "metadata": {},
   "outputs": [
    {
     "data": {
      "text/html": [
       "<div>\n",
       "<style scoped>\n",
       "    .dataframe tbody tr th:only-of-type {\n",
       "        vertical-align: middle;\n",
       "    }\n",
       "\n",
       "    .dataframe tbody tr th {\n",
       "        vertical-align: top;\n",
       "    }\n",
       "\n",
       "    .dataframe thead th {\n",
       "        text-align: right;\n",
       "    }\n",
       "</style>\n",
       "<table border=\"1\" class=\"dataframe\">\n",
       "  <thead>\n",
       "    <tr style=\"text-align: right;\">\n",
       "      <th></th>\n",
       "      <th>Node</th>\n",
       "      <th>Way</th>\n",
       "      <th>Relation</th>\n",
       "    </tr>\n",
       "  </thead>\n",
       "  <tbody>\n",
       "    <tr>\n",
       "      <th>26860698</th>\n",
       "      <td>{'id': 26860698, 'tags': {'name': 'Mittagspitz...</td>\n",
       "      <td>NaN</td>\n",
       "      <td>NaN</td>\n",
       "    </tr>\n",
       "    <tr>\n",
       "      <th>49872651</th>\n",
       "      <td>{'id': 49872651, 'tags': {'ele': '576', 'infor...</td>\n",
       "      <td>NaN</td>\n",
       "      <td>NaN</td>\n",
       "    </tr>\n",
       "    <tr>\n",
       "      <th>50069907</th>\n",
       "      <td>{'id': 50069907, 'tags': {'amenity': 'parking'...</td>\n",
       "      <td>NaN</td>\n",
       "      <td>NaN</td>\n",
       "    </tr>\n",
       "    <tr>\n",
       "      <th>50075428</th>\n",
       "      <td>{'id': 50075428, 'tags': {'barrier': 'entrance...</td>\n",
       "      <td>NaN</td>\n",
       "      <td>NaN</td>\n",
       "    </tr>\n",
       "    <tr>\n",
       "      <th>50086939</th>\n",
       "      <td>{'id': 50086939, 'tags': {'ele': '479', 'hikin...</td>\n",
       "      <td>NaN</td>\n",
       "      <td>NaN</td>\n",
       "    </tr>\n",
       "  </tbody>\n",
       "</table>\n",
       "</div>"
      ],
      "text/plain": [
       "                                                       Node  Way Relation\n",
       "26860698  {'id': 26860698, 'tags': {'name': 'Mittagspitz...  NaN      NaN\n",
       "49872651  {'id': 49872651, 'tags': {'ele': '576', 'infor...  NaN      NaN\n",
       "50069907  {'id': 50069907, 'tags': {'amenity': 'parking'...  NaN      NaN\n",
       "50075428  {'id': 50075428, 'tags': {'barrier': 'entrance...  NaN      NaN\n",
       "50086939  {'id': 50086939, 'tags': {'ele': '479', 'hikin...  NaN      NaN"
      ]
     },
     "execution_count": 17,
     "metadata": {},
     "output_type": "execute_result"
    }
   ],
   "source": [
    "poi.head()"
   ]
  },
  {
   "cell_type": "code",
   "execution_count": 18,
   "metadata": {},
   "outputs": [
    {
     "data": {
      "text/plain": [
       "26860698      {'id': 26860698, 'tags': {'name': 'Mittagspitz...\n",
       "49872651      {'id': 49872651, 'tags': {'ele': '576', 'infor...\n",
       "50069907      {'id': 50069907, 'tags': {'amenity': 'parking'...\n",
       "50075428      {'id': 50075428, 'tags': {'barrier': 'entrance...\n",
       "50086939      {'id': 50086939, 'tags': {'ele': '479', 'hikin...\n",
       "                                    ...                        \n",
       "2592411889    {'id': 2592411889, 'tags': {}, 'lonlat': [9.54...\n",
       "2592411890    {'id': 2592411890, 'tags': {}, 'lonlat': [9.54...\n",
       "2592411892    {'id': 2592411892, 'tags': {}, 'lonlat': [9.54...\n",
       "2592411894    {'id': 2592411894, 'tags': {}, 'lonlat': [9.54...\n",
       "2592411896    {'id': 2592411896, 'tags': {}, 'lonlat': [9.54...\n",
       "Name: Node, Length: 3052, dtype: object"
      ]
     },
     "execution_count": 18,
     "metadata": {},
     "output_type": "execute_result"
    }
   ],
   "source": [
    "poi[\"Node\"].dropna()"
   ]
  },
  {
   "cell_type": "code",
   "execution_count": 19,
   "metadata": {},
   "outputs": [
    {
     "data": {
      "text/plain": [
       "25208631     {'id': 25208631, 'tags': {'amenity': 'parking'...\n",
       "25208668     {'id': 25208668, 'tags': {'amenity': 'parking'...\n",
       "25208692     {'id': 25208692, 'tags': {'area': 'yes', 'leis...\n",
       "25208907     {'id': 25208907, 'tags': {'amenity': 'parking'...\n",
       "25208979     {'id': 25208979, 'tags': {'area': 'yes', 'leis...\n",
       "                                   ...                        \n",
       "246471505    {'id': 246471505, 'tags': {'building': 'greenh...\n",
       "247224785    {'id': 247224785, 'tags': {'landuse': 'commerc...\n",
       "253291503    {'id': 253291503, 'tags': {'addr:city': 'Tries...\n",
       "253291504    {'id': 253291504, 'tags': {'landuse': 'cemeter...\n",
       "253291505    {'id': 253291505, 'tags': {'addr:city': 'Tries...\n",
       "Name: Way, Length: 306, dtype: object"
      ]
     },
     "execution_count": 19,
     "metadata": {},
     "output_type": "execute_result"
    }
   ],
   "source": [
    "poi[\"Way\"].dropna()"
   ]
  },
  {
   "cell_type": "code",
   "execution_count": 20,
   "metadata": {},
   "outputs": [
    {
     "data": {
      "text/plain": [
       "1252853    {'id': 1252853, 'tags': {'access': 'private', ...\n",
       "1708167    {'id': 1708167, 'tags': {'leisure': 'pitch', '...\n",
       "Name: Relation, dtype: object"
      ]
     },
     "execution_count": 20,
     "metadata": {},
     "output_type": "execute_result"
    }
   ],
   "source": [
    "poi[\"Relation\"].dropna()"
   ]
  },
  {
   "cell_type": "code",
   "execution_count": null,
   "metadata": {},
   "outputs": [],
   "source": []
  }
 ],
 "metadata": {
  "interpreter": {
   "hash": "ca7d7b913e04e51ca83a1ae989dc520bada46095fd1b5ce4a10c186f51f67299"
  },
  "kernelspec": {
   "display_name": "Python 3.9.5 64-bit ('mobi-preprocessing': conda)",
   "name": "python3"
  },
  "language_info": {
   "codemirror_mode": {
    "name": "ipython",
    "version": 3
   },
   "file_extension": ".py",
   "mimetype": "text/x-python",
   "name": "python",
   "nbconvert_exporter": "python",
   "pygments_lexer": "ipython3",
   "version": "3.9.5"
  }
 },
 "nbformat": 4,
 "nbformat_minor": 5
}